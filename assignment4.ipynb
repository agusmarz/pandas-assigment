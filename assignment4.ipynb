{
 "cells": [
  {
   "cell_type": "markdown",
   "metadata": {
    "deletable": false,
    "editable": false,
    "nbgrader": {
     "checksum": "48770f8b5f5d3062d3badd51fcafc401",
     "grade": false,
     "grade_id": "cell-a6c4f74309fc2379",
     "locked": true,
     "schema_version": 1,
     "solution": false
    }
   },
   "source": [
    "# Assignment 4\n",
    "## Description\n",
    "In this assignment you must read in a file of metropolitan regions and associated sports teams from [assets/wikipedia_data.html](assets/wikipedia_data.html) and answer some questions about each metropolitan region. Each of these regions may have one or more teams from the \"Big 4\": NFL (football, in [assets/nfl.csv](assets/nfl.csv)), MLB (baseball, in [assets/mlb.csv](assets/mlb.csv)), NBA (basketball, in [assets/nba.csv](assets/nba.csv) or NHL (hockey, in [assets/nhl.csv](assets/nhl.csv)). Please keep in mind that all questions are from the perspective of the metropolitan region, and that this file is the \"source of authority\" for the location of a given sports team. Thus teams which are commonly known by a different area (e.g. \"Oakland Raiders\") need to be mapped into the metropolitan region given (e.g. San Francisco Bay Area). This will require some human data understanding outside of the data you've been given (e.g. you will have to hand-code some names, and might need to google to find out where teams are)!\n",
    "\n",
    "For each sport I would like you to answer the question: **what is the win/loss ratio's correlation with the population of the city it is in?** Win/Loss ratio refers to the number of wins over the number of wins plus the number of losses. Remember that to calculate the correlation with [`pearsonr`](https://docs.scipy.org/doc/scipy/reference/generated/scipy.stats.pearsonr.html), so you are going to send in two ordered lists of values, the populations from the wikipedia_data.html file and the win/loss ratio for a given sport in the same order. Average the win/loss ratios for those cities which have multiple teams of a single sport. Each sport is worth an equal amount in this assignment (20%\\*4=80%) of the grade for this assignment. You should only use data **from year 2018** for your analysis -- this is important!\n",
    "\n",
    "## Notes\n",
    "\n",
    "1. Do not include data about the MLS or CFL in any of the work you are doing, we're only interested in the Big 4 in this assignment.\n",
    "2. I highly suggest that you first tackle the four correlation questions in order, as they are all similar and worth the majority of grades for this assignment. This is by design!\n",
    "3. It's fair game to talk with peers about high level strategy as well as the relationship between metropolitan areas and sports teams. However, do not post code solving aspects of the assignment (including such as dictionaries mapping areas to teams, or regexes which will clean up names).\n",
    "4. There may be more teams than the assert statements test, remember to collapse multiple teams in one city into a single value!"
   ]
  },
  {
   "cell_type": "markdown",
   "metadata": {
    "deletable": false,
    "editable": false,
    "nbgrader": {
     "checksum": "369ff9ecf0ee04640574205cbc697f94",
     "grade": false,
     "grade_id": "cell-712b2b5da63d4505",
     "locked": true,
     "schema_version": 1,
     "solution": false
    }
   },
   "source": [
    "## Question 1\n",
    "For this question, calculate the win/loss ratio's correlation with the population of the city it is in for the **NHL** using **2018** data."
   ]
  },
  {
   "cell_type": "code",
   "execution_count": 7,
   "metadata": {
    "deletable": false,
    "nbgrader": {
     "checksum": "1cac4803b02502929f5b1612d48db2b5",
     "grade": false,
     "grade_id": "cell-69b16e4386e58030",
     "locked": false,
     "schema_version": 1,
     "solution": true
    }
   },
   "outputs": [
    {
     "ename": "ModuleNotFoundError",
     "evalue": "No module named 'pandas'",
     "output_type": "error",
     "traceback": [
      "\u001b[1;31m---------------------------------------------------------------------------\u001b[0m",
      "\u001b[1;31mModuleNotFoundError\u001b[0m                       Traceback (most recent call last)",
      "Cell \u001b[1;32mIn[7], line 1\u001b[0m\n\u001b[1;32m----> 1\u001b[0m \u001b[38;5;28;01mimport\u001b[39;00m \u001b[38;5;21;01mpandas\u001b[39;00m \u001b[38;5;28;01mas\u001b[39;00m \u001b[38;5;21;01mpd\u001b[39;00m\n\u001b[0;32m      2\u001b[0m \u001b[38;5;28;01mimport\u001b[39;00m \u001b[38;5;21;01mnumpy\u001b[39;00m \u001b[38;5;28;01mas\u001b[39;00m \u001b[38;5;21;01mnp\u001b[39;00m\n\u001b[0;32m      3\u001b[0m \u001b[38;5;28;01mimport\u001b[39;00m \u001b[38;5;21;01mscipy\u001b[39;00m\u001b[38;5;21;01m.\u001b[39;00m\u001b[38;5;21;01mstats\u001b[39;00m \u001b[38;5;28;01mas\u001b[39;00m \u001b[38;5;21;01mstats\u001b[39;00m\n",
      "\u001b[1;31mModuleNotFoundError\u001b[0m: No module named 'pandas'"
     ]
    }
   ],
   "source": [
    "import pandas as pd\n",
    "import numpy as np\n",
    "import scipy.stats as stats\n",
    "import re\n",
    "\n",
    "def df_nhl(): \n",
    "    nhl=pd.read_csv(\"assets/nhl.csv\")\n",
    "    cities=pd.read_html(\"assets/wikipedia_data.html\")[1]\n",
    "    cities=cities.iloc[:-1,[0,3,5,6,7,8]]\n",
    "    nhl = nhl[nhl[\"year\"]==2018]\n",
    "    nhl.drop(nhl[nhl['GP'].str.contains('[a-zA-Z]+')].index, inplace=True)\n",
    "    nhl = nhl.reset_index()\n",
    "    nhl = nhl.loc[:, [\"team\",\"L\", \"W\"]]\n",
    "    nhl[\"team\"] =nhl.team.replace(to_replace=\"\\s*\\**\\s*\",value=\"\",regex=True)\n",
    "    nhl[\"L\"] = nhl[\"L\"].astype(float)\n",
    "    nhl[\"W\"] = nhl[\"W\"].astype(float)\n",
    "\n",
    "    def ratio(x):\n",
    "        result = x[\"W\"]/(x[\"W\"]+x[\"L\"])\n",
    "        return result\n",
    "\n",
    "    nhl[\"winrate\"]  = nhl.apply(ratio, axis=1)\n",
    "    del nhl[\"L\"]\n",
    "    del nhl[\"W\"]\n",
    "    new_df = nhl[\"team\"].str.extract(\"(?P<City>^[\\w\\.]+)(?P<team>[A-Z]+[a-z]+$)\")\n",
    "    nhl[\"city\"] = new_df[\"City\"]\n",
    "    nhl[\"team\"] = new_df[\"team\"]\n",
    "    nhl = nhl.set_index(\"team\")\n",
    "\n",
    "    cities=pd.read_html(\"assets/wikipedia_data.html\")[1]\n",
    "    cities=cities.iloc[:-1,[0,3,5,6,7,8]]\n",
    "    cities= cities.loc[:, [\"Metropolitan area\", \"Population (2016 est.)[8]\", \"NHL\"]]\n",
    "    cities[\"NHL\"] =cities.NHL.replace(to_replace=\"\\s*\\[[^()]*\\]\\s*$\",value=\"\",regex=True)     \n",
    "    cities.loc[cities[\"NHL\"] == \"—\", \"NHL\"] = float(\"nan\")\n",
    "    cities.loc[cities[\"NHL\"] == \"\", \"NHL\"] = float(\"nan\")\n",
    "    cities = cities.dropna()\n",
    "    cities.rename(columns = {\"NHL\": \"team\", \"Population (2016 est.)[8]\" : \"Poblacion\"}, inplace= True)\n",
    "    cities[\"Poblacion\"] = cities[\"Poblacion\"].astype(float)\n",
    "    nhl[\"winrate\"] = nhl[\"winrate\"].astype(float)\n",
    "    teams = cities[\"team\"].str.extract(\"(?P<team1>^[\\w]+)(?:[\\s]*)(?P<team2>[\\w]*)(?:[\\s]*)(?P<team3>[\\w]*$)\")\n",
    "    cities[\"team\"] = teams[\"team1\"]\n",
    "\n",
    "    copia = pd.DataFrame()\n",
    "    copia[\"Metropolitan area\"] = cities[\"Metropolitan area\"]\n",
    "    copia[\"Poblacion\"] = cities[\"Poblacion\"]\n",
    "    copia[\"team\"] = teams[\"team2\"]\n",
    "    copia = copia[copia[\"team\"] != \"\"]\n",
    "\n",
    "    copia2 = pd.DataFrame()\n",
    "    copia2[\"Metropolitan area\"] = cities[\"Metropolitan area\"]\n",
    "    copia2[\"Poblacion\"] = cities[\"Poblacion\"]\n",
    "    copia2[\"team\"] = teams[\"team3\"]\n",
    "    copia2 = copia2[copia2[\"team\"] != \"\"]\n",
    "\n",
    "    cities = cities.set_index(\"team\")\n",
    "    copia = copia.set_index(\"team\")\n",
    "    copia2 = copia2.set_index(\"team\")\n",
    "\n",
    "    merge1 = pd.merge(nhl,cities,how=\"inner\", left_index= True, right_index=True)\n",
    "    merge2 = pd.merge(nhl,copia,how=\"inner\", left_index= True, right_index=True)\n",
    "    merge3 = pd.merge(nhl,copia2,how=\"inner\", left_index= True, right_index=True)\n",
    "    merge = pd.concat((merge1,merge2,merge3))\n",
    "    \n",
    "    merge=merge.groupby('Metropolitan area').agg({'winrate': np.mean, 'Poblacion': np.mean})\n",
    "    \n",
    "    return merge\n",
    "\n",
    "def nhl_correlation(): \n",
    "    merge= df_nhl()\n",
    "    merge[\"Poblacion\"] = merge[\"Poblacion\"].astype(int)\n",
    "    population_by_region = merge[\"Poblacion\"].to_list() # pass in metropolitan area population from cities\n",
    "    win_loss_by_region = merge[\"winrate\"].to_list() # pass in win/loss ratio from nhl_df in the same order as cities[\"Metropolitan area\"]\n",
    "    \n",
    "    assert len(population_by_region) == len(win_loss_by_region), \"Q1: Your lists must be the same length\"\n",
    "    assert len(population_by_region) == 28, \"Q1: There should be 28 teams being analysed for NHL\"\n",
    "    \n",
    "    return np.float64(stats.pearsonr(population_by_region, win_loss_by_region)[0])"
   ]
  },
  {
   "cell_type": "code",
   "execution_count": null,
   "metadata": {
    "deletable": false,
    "editable": false,
    "nbgrader": {
     "checksum": "52a581df513c71153e105b93764cda4b",
     "grade": true,
     "grade_id": "cell-ebe0b2dfe1067e63",
     "locked": true,
     "points": 20,
     "schema_version": 1,
     "solution": false
    }
   },
   "outputs": [],
   "source": []
  },
  {
   "cell_type": "markdown",
   "metadata": {
    "deletable": false,
    "editable": false,
    "nbgrader": {
     "checksum": "988912cae4968d81473f46d783e79c16",
     "grade": false,
     "grade_id": "cell-cb964e690298b71d",
     "locked": true,
     "schema_version": 1,
     "solution": false
    }
   },
   "source": [
    "## Question 2\n",
    "For this question, calculate the win/loss ratio's correlation with the population of the city it is in for the **NBA** using **2018** data."
   ]
  },
  {
   "cell_type": "code",
   "execution_count": 97,
   "metadata": {
    "deletable": false,
    "nbgrader": {
     "checksum": "9394222aafc8ccab0a228098ba0d6010",
     "grade": false,
     "grade_id": "cell-5a5f21279e3d3572",
     "locked": false,
     "schema_version": 1,
     "solution": true
    }
   },
   "outputs": [
    {
     "data": {
      "text/plain": [
       "-0.17636350642182938"
      ]
     },
     "execution_count": 97,
     "metadata": {},
     "output_type": "execute_result"
    }
   ],
   "source": [
    "import pandas as pd\n",
    "import numpy as np\n",
    "import scipy.stats as stats\n",
    "import re\n",
    "\n",
    "def df_nba():\n",
    "    \n",
    "    nba=pd.read_csv(\"assets/nba.csv\", skipfooter=132)\n",
    "    nba = nba.loc[:, [\"team\", \"W/L%\"]]\n",
    "    nba[\"team\"] =nba.team.replace(to_replace=\"\\**\\s*\\([^()]*\\)\\s*$\",value=\"\",regex=True)\n",
    "\n",
    "    new_df = nba[\"team\"].str.extract(\"(?P<City>^[\\w]+ *[\\w]*)(?:[\\s]+)(?P<team>[\\w]+$)\")\n",
    "    nba[\"team\"] = new_df[\"team\"]\n",
    "    nba= nba.set_index(\"team\")\n",
    "\n",
    "    cities=pd.read_html(\"assets/wikipedia_data.html\")[1]\n",
    "    cities=cities.iloc[:-1,[0,3,5,6,7,8]]\n",
    "    cities= cities.loc[:, [\"Metropolitan area\", \"Population (2016 est.)[8]\", \"NBA\"]]\n",
    "    cities[\"NBA\"] =cities.NBA.replace(to_replace=\"\\s*\\[[^()]*\\]\\s*$\",value=\"\",regex=True)     \n",
    "    cities.loc[cities[\"NBA\"] == \"—\", \"NBA\"] = float(\"nan\")\n",
    "    cities.loc[cities[\"NBA\"] == \"\", \"NBA\"] = float(\"nan\")\n",
    "    cities = cities.dropna()\n",
    "    cities.rename(columns = {\"NBA\": \"team\", \"Population (2016 est.)[8]\" : \"Poblacion\"}, inplace= True)\n",
    "    cities[\"Poblacion\"] = cities[\"Poblacion\"].astype(float)\n",
    "    nba[\"W/L%\"] = nba[\"W/L%\"].astype(float)\n",
    "    teams = cities[\"team\"].str.extract(\"(?P<team1>^[\\w]+)(?:[\\s]*)(?P<team2>[\\w]*$)\")\n",
    "    cities[\"team\"] = teams[\"team1\"]\n",
    "    copia = pd.DataFrame()\n",
    "    copia[\"Metropolitan area\"] = cities[\"Metropolitan area\"]\n",
    "    copia[\"Poblacion\"] = cities[\"Poblacion\"]\n",
    "    copia[\"team\"] = teams[\"team2\"]\n",
    "    copia = copia[copia[\"team\"] != \"\"]\n",
    "    cities = cities.set_index(\"team\")\n",
    "    copia = copia.set_index(\"team\")\n",
    "\n",
    "\n",
    "    merge1 = pd.merge(nba,cities,how=\"inner\", left_index= True, right_index=True)\n",
    "    merge2 = pd.merge(nba,copia,how=\"inner\", left_index= True, right_index=True)\n",
    "    merge = pd.concat((merge1,merge2))\n",
    "    \n",
    "    merge=merge.groupby('Metropolitan area').agg({'W/L%': np.nanmean, 'Poblacion': np.nanmean})\n",
    "    \n",
    "    return merge\n",
    "\n",
    "def nba_correlation():\n",
    "    merge = df_nba()\n",
    "    population_by_region = merge[\"Poblacion\"] # pass in metropolitan area population from cities\n",
    "    win_loss_by_region = merge[\"W/L%\"] # pass in win/loss ratio from nba_df in the same order as cities[\"Metropolitan area\"]\n",
    "\n",
    "    assert len(population_by_region) == len(win_loss_by_region), \"Q2: Your lists must be the same length\"\n",
    "    assert len(population_by_region) == 28, \"Q2: There should be 28 teams being analysed for NBA\"\n",
    "\n",
    "    return np.float64(stats.pearsonr(population_by_region, win_loss_by_region)[0])"
   ]
  },
  {
   "cell_type": "code",
   "execution_count": null,
   "metadata": {
    "deletable": false,
    "editable": false,
    "nbgrader": {
     "checksum": "bbdeb8eb22f525a34c10dc8798324e42",
     "grade": true,
     "grade_id": "cell-e573b2b4a282b470",
     "locked": true,
     "points": 20,
     "schema_version": 1,
     "solution": false
    }
   },
   "outputs": [],
   "source": []
  },
  {
   "cell_type": "markdown",
   "metadata": {
    "deletable": false,
    "editable": false,
    "nbgrader": {
     "checksum": "1a1a5809f675ca033086422007cd73bd",
     "grade": false,
     "grade_id": "cell-96e15e4335df78f4",
     "locked": true,
     "schema_version": 1,
     "solution": false
    }
   },
   "source": [
    "## Question 3\n",
    "For this question, calculate the win/loss ratio's correlation with the population of the city it is in for the **MLB** using **2018** data."
   ]
  },
  {
   "cell_type": "code",
   "execution_count": 98,
   "metadata": {
    "deletable": false,
    "nbgrader": {
     "checksum": "27e8c0da6c9fa0dffc10488314335b6c",
     "grade": false,
     "grade_id": "cell-33b00fc3f3467b0c",
     "locked": false,
     "schema_version": 1,
     "solution": true
    }
   },
   "outputs": [],
   "source": [
    "import pandas as pd\n",
    "import numpy as np\n",
    "import scipy.stats as stats\n",
    "import re\n",
    "\n",
    "def df_mlb(): \n",
    "    mlb=pd.read_csv(\"assets/mlb.csv\")\n",
    "    mlb=mlb[mlb[\"year\"] == 2018]\n",
    "    \n",
    "    mlb= mlb.loc[:, [\"team\", \"W\", \"L\"]]\n",
    "    \n",
    "    mlb[\"L\"] = mlb[\"L\"].astype(float)\n",
    "    mlb[\"W\"] = mlb[\"W\"].astype(float)\n",
    "    def ratio(x):\n",
    "        result = x[\"W\"]/(x[\"W\"]+x[\"L\"])\n",
    "        return result\n",
    "    mlb[\"W-L%\"] = mlb.apply(ratio, axis=1)\n",
    "    mlb[\"W-L%\"] = mlb[\"W-L%\"].astype(float)\n",
    "    del mlb[\"W\"]\n",
    "    del mlb[\"L\"]\n",
    "    mlb.at[0,\"team\"] = \"Boston SoxR\"\n",
    "    mlb.at[8,\"team\"] = \"Chicago SoxW\"\n",
    "    new_df = mlb[\"team\"].str.extract(\"(?P<City>^[\\w.]+ *[\\w]*)(?:[\\s]+)(?P<team>[\\w]+$)\")\n",
    "   \n",
    "    mlb[\"team\"] = new_df[\"team\"]\n",
    "    \n",
    "    mlb= mlb.set_index(\"team\")\n",
    "    cities=pd.read_html(\"assets/wikipedia_data.html\")[1]\n",
    "    cities=cities.iloc[:-1,[0,3,5,6,7,8]]\n",
    "    cities= cities.loc[:, [\"Metropolitan area\", \"Population (2016 est.)[8]\", \"MLB\"]]\n",
    "    cities[\"MLB\"] =cities.MLB.replace(to_replace=\"\\s*\\[[^()]*\\]\\s*$\",value=\"\",regex=True)     \n",
    "    cities.loc[cities[\"MLB\"] == \"—\", \"MLB\"] = float(\"nan\")\n",
    "    cities.loc[cities[\"MLB\"] == \"\", \"MLB\"] = float(\"nan\")\n",
    "    cities = cities.dropna()\n",
    "    cities.rename(columns = {\"MLB\": \"team\", \"Population (2016 est.)[8]\" : \"Poblacion\"}, inplace= True)\n",
    "    cities[\"Poblacion\"] = cities[\"Poblacion\"].astype(float)\n",
    "    cities.at[3,\"team\"] = \"Cubs SoxW\"\n",
    "    cities.at[7,\"team\"] = \"SoxR\"\n",
    "    cities.rename(index={\"Cubs White Sox\" : \"Cubs SoxW\", })\n",
    "    teams = cities[\"team\"].str.extract(\"(?P<team1>^[\\w]+)(?:[\\s]*)(?P<team2>[\\w]*)(?:[\\s]*)(?P<team3>[\\w]*$)\")\n",
    "    cities[\"team\"] = teams[\"team1\"]\n",
    "    \n",
    "    copia = pd.DataFrame()\n",
    "    copia[\"Metropolitan area\"] = cities[\"Metropolitan area\"]\n",
    "    copia[\"Poblacion\"] = cities[\"Poblacion\"]\n",
    "    copia[\"team\"] = teams[\"team2\"]\n",
    "    copia = copia[copia[\"team\"] != \"\"]\n",
    "\n",
    "    copia2 = pd.DataFrame()\n",
    "    copia2[\"Metropolitan area\"] = cities[\"Metropolitan area\"]\n",
    "    copia2[\"Poblacion\"] = cities[\"Poblacion\"]\n",
    "    copia2[\"team\"] = teams[\"team3\"]\n",
    "    copia2 = copia2[copia2[\"team\"] != \"\"]\n",
    "\n",
    "    cities = cities.set_index(\"team\")\n",
    "    copia = copia.set_index(\"team\")\n",
    "    copia2 = copia2.set_index(\"team\")\n",
    "    \n",
    "    merge1 = pd.merge(mlb,cities,how=\"inner\", left_index= True, right_index=True)\n",
    "    merge2 = pd.merge(mlb,copia,how=\"inner\", left_index= True, right_index=True)\n",
    "    merge3 = pd.merge(mlb,copia2,how=\"inner\", left_index= True, right_index=True)\n",
    "    merge = pd.concat((merge1,merge2,merge3))\n",
    "    merge[\"Poblacion\"] = merge[\"Poblacion\"].astype(int)\n",
    "    final = merge.groupby(\"Metropolitan area\").agg({\"W-L%\": \"mean\", \"Poblacion\": \"first\"})\n",
    "\n",
    "    return final\n",
    "\n",
    "def mlb_correlation(): \n",
    "    merge = df_mlb()\n",
    "    population_by_region = merge[\"Poblacion\"]\n",
    "    win_loss_by_region = merge[\"W-L%\"] # pass in win/loss ratio from mlb_df in the same order as cities[\"Metropolitan area\"]\n",
    "\n",
    "    assert len(population_by_region) == len(win_loss_by_region), \"Q3: Your lists must be the same length\"\n",
    "    assert len(population_by_region) == 26, \"Q3: There should be 26 teams being analysed for MLB\"\n",
    "\n",
    "    return np.float64(stats.pearsonr(population_by_region, win_loss_by_region)[0])"
   ]
  },
  {
   "cell_type": "code",
   "execution_count": null,
   "metadata": {
    "deletable": false,
    "editable": false,
    "nbgrader": {
     "checksum": "cda33b094ba19ccc37a481e0dd29e0bc",
     "grade": true,
     "grade_id": "cell-764d4476f425c5a2",
     "locked": true,
     "points": 20,
     "schema_version": 1,
     "solution": false
    }
   },
   "outputs": [],
   "source": []
  },
  {
   "cell_type": "markdown",
   "metadata": {
    "deletable": false,
    "editable": false,
    "nbgrader": {
     "checksum": "6977a6da9ed6d8b7a0b7e37bbeda709b",
     "grade": false,
     "grade_id": "cell-793df6c04dfb126e",
     "locked": true,
     "schema_version": 1,
     "solution": false
    }
   },
   "source": [
    "## Question 4\n",
    "For this question, calculate the win/loss ratio's correlation with the population of the city it is in for the **NFL** using **2018** data."
   ]
  },
  {
   "cell_type": "code",
   "execution_count": 99,
   "metadata": {
    "deletable": false,
    "nbgrader": {
     "checksum": "c4914ad1e119278ec2bd567c52640b66",
     "grade": false,
     "grade_id": "cell-8ccebc209aeec8d9",
     "locked": false,
     "schema_version": 1,
     "solution": true
    }
   },
   "outputs": [],
   "source": [
    "import pandas as pd\n",
    "import numpy as np\n",
    "import scipy.stats as stats\n",
    "import re\n",
    "\n",
    "nfl_df=pd.read_csv(\"assets/nfl.csv\")\n",
    "cities=pd.read_html(\"assets/wikipedia_data.html\")[1]\n",
    "cities=cities.iloc[:-1,[0,3,5,6,7,8]]\n",
    "\n",
    "def df_nfl(): \n",
    "    # YOUR CODE HERE\n",
    "    NFL=pd.read_csv(\"assets/nfl.csv\")\n",
    "    NFL=NFL[NFL[\"year\"] == 2018]\n",
    "    NFL.drop(NFL[NFL['W-L%'].str.contains('[a-zA-Z]+')].index, inplace=True)\n",
    "    NFL[\"team\"] =NFL.team.replace(to_replace=\"[\\+]*[\\*]*$\",value=\"\",regex=True)\n",
    "    new_df = NFL[\"team\"].str.extract(\"(?P<City>^[\\w.]+ *[\\w]*)(?:[\\s]+)(?P<team>[\\w]+$)\")\n",
    "    NFL= NFL.loc[:, [\"team\", \"W\", \"L\",\"T\"]]\n",
    "    NFL[\"L\"] = NFL[\"L\"].astype(float)\n",
    "    NFL[\"W\"] = NFL[\"W\"].astype(float)\n",
    "    NFL[\"T\"] = NFL[\"T\"].astype(float)\n",
    "    def ratio(x):\n",
    "        result = x[\"W\"]/(x[\"W\"]+x[\"L\"])\n",
    "        return result\n",
    "    NFL[\"W-L%\"] = NFL.apply(ratio, axis=1)\n",
    "    NFL[\"W-L%\"] = NFL[\"W-L%\"].astype(float)\n",
    "    del NFL[\"W\"]\n",
    "    del NFL[\"L\"]\n",
    "    del NFL[\"T\"]\n",
    "    NFL[\"W-L%\"] = NFL[\"W-L%\"].astype(float)\n",
    "    NFL[\"team\"] = new_df[\"team\"]\n",
    "    NFL= NFL.set_index(\"team\")\n",
    "\n",
    "    \n",
    "    cities=pd.read_html(\"assets/wikipedia_data.html\")[1]\n",
    "    cities=cities.iloc[:-1,[0,3,5,6,7,8]]\n",
    "    cities= cities.loc[:, [\"Metropolitan area\", \"Population (2016 est.)[8]\", \"NFL\"]]\n",
    "    cities[\"NFL\"] =cities.NFL.replace(to_replace=\"\\s*\\[[^()]*\\]\\s*$\",value=\"\",regex=True)     \n",
    "    cities.loc[cities[\"NFL\"] == \"—\", \"NFL\"] = float(\"nan\")\n",
    "    cities.loc[cities[\"NFL\"] == \"\", \"NFL\"] = float(\"nan\")\n",
    "    cities = cities.dropna()\n",
    "    cities.rename(columns = {\"NFL\": \"team\", \"Population (2016 est.)[8]\" : \"Poblacion\"}, inplace= True)\n",
    "    cities[\"Poblacion\"] = cities[\"Poblacion\"].astype(float)\n",
    "    NFL[\"W-L%\"] = NFL[\"W-L%\"].astype(float)\n",
    "    teams = cities[\"team\"].str.extract(\"(?P<team1>^[\\w]+)(?:[\\s]*)(?P<team2>[\\w]*)(?:[\\s]*)(?P<team3>[\\w]*$)\")\n",
    "    cities[\"team\"] = teams[\"team1\"]\n",
    "\n",
    "    copia = pd.DataFrame()\n",
    "    copia[\"Metropolitan area\"] = cities[\"Metropolitan area\"]\n",
    "    copia[\"Poblacion\"] = cities[\"Poblacion\"]\n",
    "    copia[\"team\"] = teams[\"team2\"]\n",
    "    copia = copia[copia[\"team\"] != \"\"]\n",
    "\n",
    "    copia2 = pd.DataFrame()\n",
    "    copia2[\"Metropolitan area\"] = cities[\"Metropolitan area\"]\n",
    "    copia2[\"Poblacion\"] = cities[\"Poblacion\"]\n",
    "    copia2[\"team\"] = teams[\"team3\"]\n",
    "    copia2 = copia2[copia2[\"team\"] != \"\"]\n",
    "\n",
    "    cities = cities.set_index(\"team\")\n",
    "    copia = copia.set_index(\"team\")\n",
    "    copia2 = copia2.set_index(\"team\")\n",
    "\n",
    "    merge1 = pd.merge(NFL,cities,how=\"inner\", left_index= True, right_index=True)\n",
    "    merge2 = pd.merge(NFL,copia,how=\"inner\", left_index= True, right_index=True)\n",
    "    merge3 = pd.merge(NFL,copia2,how=\"inner\", left_index= True, right_index=True)\n",
    "    merge = pd.concat((merge1,merge2,merge3))\n",
    "    \n",
    "    \n",
    "    merge=merge.groupby('Metropolitan area').agg({'W-L%': np.nanmean, 'Poblacion': np.nanmean})\n",
    "    return merge\n",
    "\n",
    "def nfl_correlation(): \n",
    "    merge = df_nfl()\n",
    "    population_by_region =merge[\"Poblacion\"] # pass in metropolitan area population from cities\n",
    "    win_loss_by_region = merge[\"W-L%\"] # pass in win/loss ratio from nfl_df in the same order as cities[\"Metropolitan area\"]\n",
    "\n",
    "    assert len(population_by_region) == len(win_loss_by_region), \"Q4: Your lists must be the same length\"\n",
    "    assert len(population_by_region) == 29, \"Q4: There should be 29 teams being analysed for NFL\"\n",
    "\n",
    "    return np.float64(stats.pearsonr(population_by_region, win_loss_by_region)[0])"
   ]
  },
  {
   "cell_type": "code",
   "execution_count": null,
   "metadata": {
    "deletable": false,
    "editable": false,
    "nbgrader": {
     "checksum": "e9415d6399aa49e3a1a60813afdefa3b",
     "grade": true,
     "grade_id": "cell-de7b148b9554dbda",
     "locked": true,
     "points": 20,
     "schema_version": 1,
     "solution": false
    }
   },
   "outputs": [],
   "source": []
  },
  {
   "cell_type": "markdown",
   "metadata": {
    "deletable": false,
    "editable": false,
    "nbgrader": {
     "checksum": "b02d5cd3273f561e4ae939bb2a41740c",
     "grade": false,
     "grade_id": "cell-97b49d8639e908c4",
     "locked": true,
     "schema_version": 1,
     "solution": false
    }
   },
   "source": [
    "## Question 5\n",
    "In this question I would like you to explore the hypothesis that **given that an area has two sports teams in different sports, those teams will perform the same within their respective sports**. How I would like to see this explored is with a series of paired t-tests (so use [`ttest_rel`](https://docs.scipy.org/doc/scipy/reference/generated/scipy.stats.ttest_rel.html)) between all pairs of sports. Are there any sports where we can reject the null hypothesis? Again, average values where a sport has multiple teams in one region. Remember, you will only be including, for each sport, cities which have teams engaged in that sport, drop others as appropriate. This question is worth 20% of the grade for this assignment."
   ]
  },
  {
   "cell_type": "code",
   "execution_count": 104,
   "metadata": {
    "deletable": false,
    "nbgrader": {
     "checksum": "6d78c961eb66f8d8c81f06d33ae8f393",
     "grade": false,
     "grade_id": "cell-92f25f44b8d1179f",
     "locked": false,
     "schema_version": 1,
     "solution": true
    }
   },
   "outputs": [],
   "source": [
    "import pandas as pd\n",
    "import numpy as np\n",
    "import scipy.stats as stats\n",
    "import re\n",
    "\n",
    "def creator(sport):\n",
    "    if sport =='NFL':\n",
    "        return df_nfl()\n",
    "    elif sport =='NBA':\n",
    "        return df_nba()\n",
    "    elif sport =='NHL':\n",
    "        return df_nhl()\n",
    "    elif sport =='MLB':\n",
    "        return df_mlb()\n",
    "\n",
    "def sports_team_performance():\n",
    "    \n",
    "    \n",
    "    # Note: p_values is a full dataframe, so df.loc[\"NFL\",\"NBA\"] should be the same as df.loc[\"NBA\",\"NFL\"] and\n",
    "    # df.loc[\"NFL\",\"NFL\"] should return np.nan\n",
    "    sports = ['NFL', 'NBA', 'NHL', 'MLB']\n",
    "    print()\n",
    "    p_values = pd.DataFrame({k:np.nan for k in sports}, index=sports)\n",
    "    \n",
    "    for i in range(len(sports)):\n",
    "            for j in range(len(sports)):\n",
    "                if i !=j :\n",
    "                    merge_temp = pd.merge(creator(sports[i]), creator(sports[j]), how='inner', left_index=True, right_index=True)\n",
    "                    del merge_temp[\"Poblacion_x\"]\n",
    "                    del merge_temp[\"Poblacion_y\"]\n",
    "                    \n",
    "\n",
    "                    \n",
    "                    p_values.loc[sports[i], sports[j]] = stats.ttest_rel(merge_temp.iloc[:, [0]], merge_temp.iloc[:, [1]])[1]\n",
    "    \n",
    "    \n",
    "    return p_values\n",
    "sports_team_performance()"
   ]
  },
  {
   "cell_type": "code",
   "execution_count": null,
   "metadata": {
    "deletable": false,
    "editable": false,
    "nbgrader": {
     "checksum": "2a596ab421a45cc01168d10e8fbb8f89",
     "grade": true,
     "grade_id": "cell-fb4b9cb5ff4570a6",
     "locked": true,
     "points": 20,
     "schema_version": 1,
     "solution": false
    }
   },
   "outputs": [],
   "source": []
  },
  {
   "cell_type": "code",
   "execution_count": 105,
   "metadata": {},
   "outputs": [
    {
     "name": "stdout",
     "output_type": "stream",
     "text": [
      "          NFL       NBA       NHL       MLB\n",
      "NFL       NaN  0.937509  0.030318  0.803459\n",
      "NBA  0.937509       NaN  0.022386  0.949566\n",
      "NHL  0.030318  0.022386       NaN  0.000703\n",
      "MLB  0.803459  0.949566  0.000703       NaN\n"
     ]
    }
   ],
   "source": [
    "print(sports_team_performance())"
   ]
  },
  {
   "cell_type": "code",
   "execution_count": null,
   "metadata": {},
   "outputs": [],
   "source": []
  }
 ],
 "metadata": {
  "coursera": {
   "schema_names": [
    "mooc_adswpy_1_v2_assignment4"
   ]
  },
  "kernelspec": {
   "display_name": "Python 3",
   "language": "python",
   "name": "python3"
  },
  "language_info": {
   "codemirror_mode": {
    "name": "ipython",
    "version": 3
   },
   "file_extension": ".py",
   "mimetype": "text/x-python",
   "name": "python",
   "nbconvert_exporter": "python",
   "pygments_lexer": "ipython3",
   "version": "3.11.4"
  }
 },
 "nbformat": 4,
 "nbformat_minor": 4
}
